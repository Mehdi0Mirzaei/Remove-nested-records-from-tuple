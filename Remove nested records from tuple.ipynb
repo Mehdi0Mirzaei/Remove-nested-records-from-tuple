{
 "cells": [
  {
   "cell_type": "code",
   "execution_count": 12,
   "id": "327e0604",
   "metadata": {},
   "outputs": [
    {
     "name": "stdout",
     "output_type": "stream",
     "text": [
      "The original tuple : (1, 5, 7, (4, 6), 10)\n",
      "Elements after removal of nested records : (1, 5, 7, 10)\n"
     ]
    }
   ],
   "source": [
    "# initialize tuple\n",
    "test_tup = (1, 5, 7, (4, 6), 10)\n",
    " \n",
    "# printing original tuple\n",
    "print(\"The original tuple : \" + str(test_tup))\n",
    " \n",
    "# Remove nested records\n",
    "# using isinstance() + enumerate() + loop\n",
    "res = tuple()\n",
    "for count, ele in enumerate(test_tup):\n",
    "    if not isinstance(ele, tuple):\n",
    "        res = res + (ele, )\n",
    " # printing result\n",
    "print(\"Elements after removal of nested records : \" + str(res))\n"
   ]
  },
  {
   "cell_type": "code",
   "execution_count": 13,
   "id": "c9871d38",
   "metadata": {},
   "outputs": [
    {
     "name": "stdout",
     "output_type": "stream",
     "text": [
      "The original tuple : (1, 5, 7, (4, 6), 10)\n",
      "Elements after removal of nested records : (1, 5, 7, 10)\n"
     ]
    }
   ],
   "source": [
    "# initialize tuple\n",
    "test_tup = (1, 5, 7, (4, 6), 10)\n",
    " \n",
    "# printing original tuple\n",
    "print(\"The original tuple : \" + str(test_tup))\n",
    " \n",
    "# Remove nested records\n",
    "res=[]\n",
    "for i in test_tup:\n",
    "    if not type(i) is tuple:\n",
    "        res.append(i)\n",
    "res=tuple(res)\n",
    "# printing result\n",
    "print(\"Elements after removal of nested records : \" + str(res))"
   ]
  },
  {
   "cell_type": "code",
   "execution_count": 14,
   "id": "39b37ca7",
   "metadata": {},
   "outputs": [
    {
     "name": "stdout",
     "output_type": "stream",
     "text": [
      "The original tuple : (1, 5, 7, (4, 6), 10)\n",
      "Elements after removal of nested records : [1, 5, 7, 10]\n"
     ]
    }
   ],
   "source": [
    "# initialize tuple\n",
    "test_tup = (1, 5, 7, (4, 6), 10)\n",
    " \n",
    "# printing original tuple\n",
    "print(\"The original tuple : \" + str(test_tup))\n",
    " \n",
    "# Remove nested records\n",
    "res = list(filter(lambda x: not isinstance(x, tuple), test_tup))\n",
    " \n",
    "# printing result\n",
    "print(\"Elements after removal of nested records : \" + str(res))\n"
   ]
  },
  {
   "cell_type": "code",
   "execution_count": 15,
   "id": "2cf84b4a",
   "metadata": {},
   "outputs": [
    {
     "name": "stdout",
     "output_type": "stream",
     "text": [
      "The original tuple : (1, 5, 7, (4, 6), 10)\n",
      "Elements after removal of nested records : [1, 5, 7, 10]\n"
     ]
    }
   ],
   "source": [
    "# initialize tuple\n",
    "test_tup = (1, 5, 7, (4, 6), 10)\n",
    "  \n",
    "# printing original tuple\n",
    "print(\"The original tuple : \" + str(test_tup))\n",
    "  \n",
    "# Remove nested records\n",
    "res = [x for x in test_tup if not isinstance(x, tuple)]\n",
    "  \n",
    "# printing result\n",
    "print(\"Elements after removal of nested records : \" + str(res))"
   ]
  },
  {
   "cell_type": "code",
   "execution_count": 16,
   "id": "99f63d18",
   "metadata": {},
   "outputs": [
    {
     "name": "stdout",
     "output_type": "stream",
     "text": [
      "The original tuple: (1, 5, 7, (4, 6), 10)\n",
      "(1, 5, 7, 4, 6, 10)\n"
     ]
    }
   ],
   "source": [
    "def flatten_tuple(tup):\n",
    "    \"\"\"\n",
    "    Recursively flatten a tuple of any depth into a single tuple.\n",
    " \n",
    "    Args:\n",
    "        tup: A tuple to be flattened.\n",
    " \n",
    "    Returns:\n",
    "        A flattened tuple.\n",
    " \n",
    "    \"\"\"\n",
    "    result = []\n",
    "    for elem in tup:\n",
    "        if not isinstance(elem, tuple):\n",
    "            result.append(elem)\n",
    "        else:\n",
    "            result.extend(flatten_tuple(elem))\n",
    "    return tuple(result)\n",
    " \n",
    "# Driver code to test the function\n",
    "test_tup = (1, 5, 7, (4, 6), 10)\n",
    "print(\"The original tuple: \" + str(test_tup))\n",
    " \n",
    "# Call the function to flatten the tuple\n",
    "res = flatten_tuple(test_tup)\n",
    " \n",
    "# Print the flattened tuple\n",
    "print(res)"
   ]
  },
  {
   "cell_type": "code",
   "execution_count": null,
   "id": "8d3d7841",
   "metadata": {},
   "outputs": [],
   "source": []
  }
 ],
 "metadata": {
  "kernelspec": {
   "display_name": "Python 3 (ipykernel)",
   "language": "python",
   "name": "python3"
  },
  "language_info": {
   "codemirror_mode": {
    "name": "ipython",
    "version": 3
   },
   "file_extension": ".py",
   "mimetype": "text/x-python",
   "name": "python",
   "nbconvert_exporter": "python",
   "pygments_lexer": "ipython3",
   "version": "3.9.13"
  }
 },
 "nbformat": 4,
 "nbformat_minor": 5
}
